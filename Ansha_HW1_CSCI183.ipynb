{
  "nbformat": 4,
  "nbformat_minor": 0,
  "metadata": {
    "colab": {
      "provenance": []
    },
    "kernelspec": {
      "name": "python3",
      "display_name": "Python 3"
    },
    "language_info": {
      "name": "python"
    }
  },
  "cells": [
    {
      "cell_type": "markdown",
      "source": [
        "# **CSCI 183 - HW 1**\n",
        "## Tara Khambadkone & Ansha Shekhar\n",
        "\n",
        "## **Python Basics**"
      ],
      "metadata": {
        "id": "mtwAcASTroxX"
      }
    },
    {
      "cell_type": "markdown",
      "source": [
        "#### Q1. Write a Python program to print the number and sum of prime numbers which are less than or equal to a given number. [5 points]"
      ],
      "metadata": {
        "id": "AnDPTxs6sQzB"
      }
    },
    {
      "cell_type": "code",
      "execution_count": null,
      "metadata": {
        "id": "lql8RX5GRwjD",
        "colab": {
          "base_uri": "https://localhost:8080/"
        },
        "outputId": "421e3920-6ccb-4b62-9ebe-641fa45a6202"
      },
      "outputs": [
        {
          "output_type": "stream",
          "name": "stdout",
          "text": [
            "Enter a number: 7\n",
            "Number of prime numbers: 6\n",
            "Sum of prime numbers: 27\n"
          ]
        }
      ],
      "source": [
        "def isPrime(num):\n",
        "  if num < 2:\n",
        "      return False\n",
        "      for i in range(2, int(num ** 0.5) + 1):\n",
        "        if num % 1 ==0:\n",
        "          return False\n",
        "  return True\n",
        "\n",
        "def sumPrimeNums(n):\n",
        "  prime_count = 0\n",
        "  prime_sum = 0\n",
        "\n",
        "  for i in range(2, n+1):\n",
        "    if isPrime(i):\n",
        "      prime_count += 1\n",
        "      prime_sum += i\n",
        "\n",
        "  print(\"Number of prime numbers:\", prime_count)\n",
        "  print(\"Sum of prime numbers:\", prime_sum)\n",
        "\n",
        "n = int(input(\"Enter a number: \"))\n",
        "sumPrimeNums(n)\n"
      ]
    },
    {
      "cell_type": "markdown",
      "source": [
        "#### Q2. Write a Python program to find the largest product of the pair of adjacent elements from a given list of integers. [5 points]\n",
        "\n"
      ],
      "metadata": {
        "id": "fixS1iUlsWPJ"
      }
    },
    {
      "cell_type": "code",
      "source": [
        "def largestAdjPairProduct(nums):\n",
        "    if len(nums) < 2:\n",
        "        print(\"Invalid Input: nums must have at least 2 elements\")\n",
        "        return\n",
        "\n",
        "    maxProduct = 0\n",
        "    for i in range(len(nums)-1):\n",
        "        currProduct = nums[i] * nums[i+1]\n",
        "        if currProduct > maxProduct:\n",
        "            maxProduct = currProduct\n",
        "\n",
        "    return maxProduct\n",
        "\n",
        "print(largestAdjPairProduct([1,2,3,5,6,1,2,3]))\n",
        "print(largestAdjPairProduct([3]))\n",
        "print(largestAdjPairProduct([1,2]))"
      ],
      "metadata": {
        "id": "eM7IcamnsjsM",
        "colab": {
          "base_uri": "https://localhost:8080/"
        },
        "outputId": "2624dba2-a19d-4498-86c5-677849c2d8c2"
      },
      "execution_count": null,
      "outputs": [
        {
          "output_type": "stream",
          "name": "stdout",
          "text": [
            "30\n",
            "Invalid Input: nums must have at least 2 elements\n",
            "None\n",
            "2\n"
          ]
        }
      ]
    },
    {
      "cell_type": "markdown",
      "source": [
        "#### Q3. Given a password, we have to categorize it as valid or invalid. There are some checks that need to be met to be a valid password. For a invalid password, we need to return the reason for it to be invalid. [10 points]\n",
        "\n",
        "Conditions for a valid password are:\n",
        "*   Should have at least one number.\n",
        "*   Should have at least one uppercase and one lowercase character.\n",
        "* Should have at least one special symbol.\n",
        "* Should be between 6 to 20 characters long."
      ],
      "metadata": {
        "id": "bXdvh8NDvUwL"
      }
    },
    {
      "cell_type": "code",
      "source": [
        "def check_password(password):\n",
        "  if len(password) < 6 or len(password) > 20:\n",
        "    return \"Invalid: Password needs to be between 6 to 20 characters long\"\n",
        "\n",
        "  number = False\n",
        "  uppercase = False\n",
        "  lowercase = False\n",
        "  special = False\n",
        "\n",
        "  special_characters = \"!@#$%^&*(),.?\\\":{}|<>\"\n",
        "\n",
        "  for char in password:\n",
        "    if char.isdigit():\n",
        "      number = True\n",
        "    elif char.isupper():\n",
        "      uppercase = True\n",
        "    elif char.islower():\n",
        "      lowercase = True\n",
        "    elif char in special_characters:\n",
        "      special = True\n",
        "\n",
        "  if not number:\n",
        "    return \"Invalid: Password should have at least one number.\"\n",
        "  if not uppercase:\n",
        "    return \"Invalid: Password should have at least one uppercase character.\"\n",
        "  if not lowercase:\n",
        "    return \"Invalid: Password should have at least one lowercase character.\"\n",
        "  if not special:\n",
        "    return \"Invalid: Password should have at least one special symbol.\"\n",
        "\n",
        "  return \"Valid password\"\n",
        "\n",
        "password = input(\"Enter password: \")\n",
        "result = check_password(password)\n",
        "print(result)"
      ],
      "metadata": {
        "id": "T5wm03Fwvnq_",
        "colab": {
          "base_uri": "https://localhost:8080/"
        },
        "outputId": "f7ad28e3-f44a-4390-9a76-1c4b02c075e9"
      },
      "execution_count": null,
      "outputs": [
        {
          "output_type": "stream",
          "name": "stdout",
          "text": [
            "Enter password: Hello$1\n",
            "Valid password\n"
          ]
        }
      ]
    },
    {
      "cell_type": "markdown",
      "source": [
        "#### Q4. Given a password, we have to categorize it as a strong or weak one. There are some checks that need to be met to be a strong password. For a weak password, we need to return the reason for it to be weak. [10 points]\n",
        "\n",
        "Conditions to be fulfilled for strong password are:\n",
        "* Minimum 9 characters and maximum 20 characters.\n",
        "* Cannot be a newline or a space\n",
        "* There should not be three or more repeating characters in a row.\n",
        "* The same string pattern(minimum of two character length) should not be repeated.\n"
      ],
      "metadata": {
        "id": "3S9WKLMavoM8"
      }
    },
    {
      "cell_type": "code",
      "source": [
        "def findPasswordStrength(password):\n",
        "    if password.isspace():\n",
        "        print(\"Error: Weak password. Your password cannot be a newline or a space.\")\n",
        "    elif len(password) < 9:\n",
        "         print(\"Error: Weak password. Your password must be at least 9 characters long.\")\n",
        "    elif len(password) > 20:\n",
        "         print(\"Error: Weak password. Your password cannot be greater than 20 characters long.\")\n",
        "    elif hasManyConsecutiveChars(password):\n",
        "        print(\"Error: Weak password. Your password cannot have three or more repeating consecutive characters.\")\n",
        "    elif hasRepeatedSubstring(password):\n",
        "        print(\"Error: Weak password. Your password cannot have a repeated string pattern of at least two characters.\")\n",
        "    else:\n",
        "        print(\"Your password is strong!\")\n",
        "\n",
        "def hasManyConsecutiveChars(s):\n",
        "    repeatCount = 0\n",
        "    currChar = None\n",
        "    for char in s:\n",
        "        if char == currChar:\n",
        "            repeatCount += 1\n",
        "        else:\n",
        "            repeatCount = 1\n",
        "            currChar = char\n",
        "        if repeatCount > 2:\n",
        "            return True\n",
        "\n",
        "    return False\n",
        "\n",
        "def hasRepeatedSubstring(s):\n",
        "    i = 0\n",
        "    j = 1\n",
        "    while j < len(s):\n",
        "        if s.count(s[i:j+1]) > 1:\n",
        "            return True\n",
        "        i += 1\n",
        "        j += 1\n",
        "\n",
        "    return False\n",
        "\n",
        "findPasswordStrength(\"password12345\")\n",
        "findPasswordStrength(\"1234\")\n",
        "findPasswordStrength(\" \")\n",
        "findPasswordStrength(\"password1212\")\n",
        "findPasswordStrength(\"passworddddd12345\")\n",
        "findPasswordStrength(\"abcdefghijklmnopqrstuvwxyz\")"
      ],
      "metadata": {
        "id": "r8zgyYbQzeaw",
        "colab": {
          "base_uri": "https://localhost:8080/"
        },
        "outputId": "8ed266dc-cd35-4cac-d963-25aad4b9e326"
      },
      "execution_count": null,
      "outputs": [
        {
          "output_type": "stream",
          "name": "stdout",
          "text": [
            "Your password is strong!\n",
            "Error: Weak password. Your password must be at least 9 characters long.\n",
            "Error: Weak password. Your password cannot be a newline or a space.\n",
            "Error: Weak password. Your password cannot have a repeated string pattern of at least two characters.\n",
            "Error: Weak password. Your password cannot have three or more repeating consecutive characters.\n",
            "Error: Weak password. Your password cannot be greater than 20 characters long.\n"
          ]
        }
      ]
    },
    {
      "cell_type": "markdown",
      "source": [
        "## **Python for Data Science**"
      ],
      "metadata": {
        "id": "l8po5LW3zdWj"
      }
    },
    {
      "cell_type": "markdown",
      "source": [
        "#### Q1. Write Python code to read in all the columns (as a DataFrame) of the file cities.csv. Print the content of the columns and also the shape of the dataframe [4 Points]\n"
      ],
      "metadata": {
        "id": "9DwUpKCTz8V8"
      }
    },
    {
      "cell_type": "code",
      "source": [
        "import pandas as pd\n",
        "\n",
        "df = pd.read_csv('cities.csv')\n",
        "\n",
        "print(\"Content of the columns: \")\n",
        "print(df)\n",
        "\n",
        "print(\"\\nShape of the dataframe: \")\n",
        "print(df.shape)"
      ],
      "metadata": {
        "id": "BoqbkuwL0BbP",
        "colab": {
          "base_uri": "https://localhost:8080/"
        },
        "outputId": "943264a5-079d-4531-c45f-bc684152b51f"
      },
      "execution_count": null,
      "outputs": [
        {
          "output_type": "stream",
          "name": "stdout",
          "text": [
            "Content of the columns: \n",
            "     LatD   \"LatM\"   \"LatS\"  \"NS\"   \"LonD\"   \"LonM\"   \"LonS\"  \"EW\"  \\\n",
            "0      41        5       59   \"N\"       80       39        0   \"W\"   \n",
            "1      42       52       48   \"N\"       97       23       23   \"W\"   \n",
            "2      46       35       59   \"N\"      120       30       36   \"W\"   \n",
            "3      42       16       12   \"N\"       71       48        0   \"W\"   \n",
            "4      43       37       48   \"N\"       89       46       11   \"W\"   \n",
            "..    ...      ...      ...   ...      ...      ...      ...   ...   \n",
            "123    39       31       12   \"N\"      119       48       35   \"W\"   \n",
            "124    50       25       11   \"N\"      104       39        0   \"W\"   \n",
            "125    40       10       48   \"N\"      122       14       23   \"W\"   \n",
            "126    40       19       48   \"N\"       75       55       48   \"W\"   \n",
            "127    41        9       35   \"N\"       81       14       23   \"W\"   \n",
            "\n",
            "                 \"City\"  \"State\"  \n",
            "0          \"Youngstown\"       OH  \n",
            "1             \"Yankton\"       SD  \n",
            "2              \"Yakima\"       WA  \n",
            "3           \"Worcester\"       MA  \n",
            "4     \"Wisconsin Dells\"       WI  \n",
            "..                  ...      ...  \n",
            "123              \"Reno\"       NV  \n",
            "124            \"Regina\"       SA  \n",
            "125         \"Red Bluff\"       CA  \n",
            "126           \"Reading\"       PA  \n",
            "127           \"Ravenna\"      OH   \n",
            "\n",
            "[128 rows x 10 columns]\n",
            "\n",
            "Shape of the dataframe: \n",
            "(128, 10)\n"
          ]
        }
      ]
    },
    {
      "cell_type": "markdown",
      "source": [
        "#### Q2. Create a subset of the DataFrame from Q1 in the following way: [6 points]\n",
        "\n",
        "* **DataFrame Subset 1**: Contains columns LatD,LonD,LatM,LonM and all the rows of the original DataFrame\n",
        "* **DataFrame Subset 2**: Contains all columns but only first 100 rows of the original DataFrame\n",
        "* **DataFrame Subset 3**: Contains 2nd, 3rd and 4th column of the original DataFrame and first 10 rows"
      ],
      "metadata": {
        "id": "LVnXfmij0Btr"
      }
    },
    {
      "cell_type": "code",
      "source": [
        "import pandas as pd\n",
        "\n",
        "cities_df = pd.read_csv(\"cities.csv\")\n",
        "cities_df = cities_df.rename(columns={'LatD':'LatD', ' \"LatM\"':'LatM', ' \"LatS\"':'LatS',  ' \"NS\"':'NS', ' \"LonD\"':'LonD', ' \"LonM\"':'LonM', ' \"LonS\"':'LonS', ' \"EW\"':'EW', ' \"City\"':'City', ' \"State\"':'State'})\n",
        "#print(cities_df)\n",
        "\n",
        "#Subset 1\n",
        "cities_subset1 = cities_df[['LatD', 'LonD', 'LatM', 'LonM']]\n",
        "print(\"Subset 1: \")\n",
        "print(cities_subset1.head())\n",
        "print(cities_subset1.shape)\n",
        "\n",
        "#Subset 2\n",
        "cities_subset2 = cities_df.iloc[:100]\n",
        "print(\"\\nSubset 2: \")\n",
        "print(cities_subset2.head())\n",
        "print(cities_subset2.shape)\n",
        "\n",
        "#Subset 3\n",
        "cities_subset3 = cities_df.iloc[0:10, 1:4]\n",
        "print(\"\\nSubset 3: \")\n",
        "print(cities_subset3)\n",
        "print(cities_subset3.shape)\n"
      ],
      "metadata": {
        "id": "XomXGW7A0wH-",
        "colab": {
          "base_uri": "https://localhost:8080/"
        },
        "outputId": "c81f78cd-a1e8-42af-8986-b6a2b266a771"
      },
      "execution_count": null,
      "outputs": [
        {
          "output_type": "stream",
          "name": "stdout",
          "text": [
            "Subset 1: \n",
            "   LatD  LonD  LatM  LonM\n",
            "0    41    80     5    39\n",
            "1    42    97    52    23\n",
            "2    46   120    35    30\n",
            "3    42    71    16    48\n",
            "4    43    89    37    46\n",
            "(128, 4)\n",
            "\n",
            "Subset 2: \n",
            "   LatD  LatM  LatS    NS  LonD  LonM  LonS    EW                City State\n",
            "0    41     5    59   \"N\"    80    39     0   \"W\"        \"Youngstown\"    OH\n",
            "1    42    52    48   \"N\"    97    23    23   \"W\"           \"Yankton\"    SD\n",
            "2    46    35    59   \"N\"   120    30    36   \"W\"            \"Yakima\"    WA\n",
            "3    42    16    12   \"N\"    71    48     0   \"W\"         \"Worcester\"    MA\n",
            "4    43    37    48   \"N\"    89    46    11   \"W\"   \"Wisconsin Dells\"    WI\n",
            "(100, 10)\n",
            "\n",
            "Subset 3: \n",
            "   LatM  LatS    NS\n",
            "0     5    59   \"N\"\n",
            "1    52    48   \"N\"\n",
            "2    35    59   \"N\"\n",
            "3    16    12   \"N\"\n",
            "4    37    48   \"N\"\n",
            "5     5    59   \"N\"\n",
            "6    52    48   \"N\"\n",
            "7    11    23   \"N\"\n",
            "8    14    24   \"N\"\n",
            "9    45     0   \"N\"\n",
            "(10, 3)\n"
          ]
        }
      ]
    },
    {
      "cell_type": "markdown",
      "source": [
        "#### Q3. Write a Python code to read specific columns (LatD,LonD and City) and (LatM, LonM and State) of a CSV file (cities.csv Download cities.csv) and print the content of the columns. Also print the 'type' of data in each of the columns  [5 points]"
      ],
      "metadata": {
        "id": "QaFiU5vv0wRk"
      }
    },
    {
      "cell_type": "code",
      "source": [
        "import pandas as pd\n",
        "\n",
        "df = pd.read_csv('cities.csv')\n",
        "\n",
        "df.columns = df.columns.str.strip().str.replace('\"', '').str.strip()\n",
        "\n",
        "columns_to_select = ['LatD', 'LonD', 'City', 'LatM', 'LonM', 'State']\n",
        "selected_columns = df[columns_to_select]\n",
        "\n",
        "print(\"Selected Columns:\")\n",
        "print(selected_columns)\n",
        "\n",
        "print(\"\\nData types of each column:\")\n",
        "print(selected_columns.dtypes)\n"
      ],
      "metadata": {
        "id": "Qo4RBKH500OA",
        "colab": {
          "base_uri": "https://localhost:8080/"
        },
        "outputId": "9b0c3682-5efe-404e-b4ab-e2284f094083"
      },
      "execution_count": null,
      "outputs": [
        {
          "output_type": "stream",
          "name": "stdout",
          "text": [
            "Selected Columns:\n",
            "     LatD  LonD                City  LatM  LonM State\n",
            "0      41    80        \"Youngstown\"     5    39    OH\n",
            "1      42    97           \"Yankton\"    52    23    SD\n",
            "2      46   120            \"Yakima\"    35    30    WA\n",
            "3      42    71         \"Worcester\"    16    48    MA\n",
            "4      43    89   \"Wisconsin Dells\"    37    46    WI\n",
            "..    ...   ...                 ...   ...   ...   ...\n",
            "123    39   119              \"Reno\"    31    48    NV\n",
            "124    50   104            \"Regina\"    25    39    SA\n",
            "125    40   122         \"Red Bluff\"    10    14    CA\n",
            "126    40    75           \"Reading\"    19    55    PA\n",
            "127    41    81           \"Ravenna\"     9    14   OH \n",
            "\n",
            "[128 rows x 6 columns]\n",
            "\n",
            "Data types of each column:\n",
            "LatD      int64\n",
            "LonD      int64\n",
            "City     object\n",
            "LatM      int64\n",
            "LonM      int64\n",
            "State    object\n",
            "dtype: object\n"
          ]
        }
      ]
    },
    {
      "cell_type": "markdown",
      "source": [
        "#### Q4. Write a Python code to write a Python list of lists to a CSV file. After writing the CSV file, read the CSV file and display the content. [10 points]\n",
        "\n",
        "[Hint - Use pickle to import the .pkl file\n",
        "\n",
        "with open(\"list_of_list.pkl\", \"rb\") as fp:   \n",
        "\n",
        "   b = pickle.load(fp)\n",
        "\n",
        "]"
      ],
      "metadata": {
        "id": "0vRPjc8p0zuX"
      }
    },
    {
      "cell_type": "code",
      "source": [
        "import pickle\n",
        "import pandas as pd\n",
        "\n",
        "with open(\"list_of_list.pkl\", \"rb\") as fp:\n",
        "  b = pickle.load(fp)\n",
        "\n",
        "list_csv = pd.DataFrame(b)\n",
        "list_csv.to_csv('list_of_list.csv')\n",
        "\n",
        "df = pd.read_csv('list_of_list.csv')\n",
        "print(df)"
      ],
      "metadata": {
        "id": "nSXMH-oE04vj",
        "colab": {
          "base_uri": "https://localhost:8080/"
        },
        "outputId": "236ee5d3-e500-484f-84ad-5d471e267fb4"
      },
      "execution_count": null,
      "outputs": [
        {
          "output_type": "stream",
          "name": "stdout",
          "text": [
            "    Unnamed: 0                           0          1       2        3  \\\n",
            "0            0              competitorname  chocolate  fruity  caramel   \n",
            "1            1                 Mr Good Bar          y       n        n   \n",
            "2            2  Chewey Lemonhead Fruit Mix          n       y        n   \n",
            "3            3                   Starburst          n       y        n   \n",
            "4            4                  Gobstopper          n       y        n   \n",
            "..         ...                         ...        ...     ...      ...   \n",
            "81          81          Caramel Apple Pops          n       y        y   \n",
            "82          82                     Fun Dip          n       y        n   \n",
            "83          83                       Runts          n       y        n   \n",
            "84          84                        Dots          n       y        n   \n",
            "85          85                    Snickers          y       n        y   \n",
            "\n",
            "                 4       5                 6     7    8         9  \\\n",
            "0   peanutyalmondy  nougat  crispedricewafer  hard  bar  pluribus   \n",
            "1                y       n                 n     n    y         n   \n",
            "2                n       n                 n     n    n         y   \n",
            "3                n       n                 n     n    n         y   \n",
            "4                n       n                 n     y    n         y   \n",
            "..             ...     ...               ...   ...  ...       ...   \n",
            "81               n       n                 n     n    n         n   \n",
            "82               n       n                 n     y    n         n   \n",
            "83               n       n                 n     y    n         y   \n",
            "84               n       n                 n     n    n         y   \n",
            "85               y       y                 n     n    y         n   \n",
            "\n",
            "              10            11          12  \n",
            "0   sugarpercent  pricepercent  winpercent  \n",
            "1      .31299999     .91799998   54.526451  \n",
            "2      .73199999     .51099998   36.017628  \n",
            "3      .15099999           .22   67.037628  \n",
            "4      .90600002     .45300001   46.783348  \n",
            "..           ...           ...         ...  \n",
            "81     .60399997     .32499999   34.517681  \n",
            "82     .73199999     .32499999   39.185505  \n",
            "83     .87199998     .27900001   42.849144  \n",
            "84     .73199999     .51099998   42.272076  \n",
            "85          .546     .65100002   76.673782  \n",
            "\n",
            "[86 rows x 14 columns]\n"
          ]
        }
      ]
    },
    {
      "cell_type": "markdown",
      "source": [
        "#### Q5. Write a Python program to convert a Python DataFrame to a dictionary object.  [5 points]\n",
        "\n",
        "Contents of the DataFrame:\n",
        "\n",
        "        C1  C2  C3\n",
        "\n",
        "    R1   1   2   3\n",
        "\n",
        "    R2   4   5   6\n",
        "\n",
        "    R3   7   8   9\n",
        "\n",
        "DataFrame as a dictionary:\n",
        "\n",
        "{'C1': {'R1': 1, 'R2': 4, 'R3': 7}, 'C2': {'R1': 2, 'R2': 5, 'R3': 8}, 'C3': {'R1': 3, 'R2': 6, 'R3': 9}}"
      ],
      "metadata": {
        "id": "DwuJqwJk044v"
      }
    },
    {
      "cell_type": "code",
      "source": [
        "import pandas as pd\n",
        "\n",
        "data = {\n",
        "    'C1': [1, 4, 7],\n",
        "    'C2': [2, 5, 8],\n",
        "    'C3': [3, 6, 9]\n",
        "}\n",
        "index = ['R1', 'R2', 'R3']\n",
        "df = pd.DataFrame(data, index=index)\n",
        "\n",
        "df_dict = df.to_dict()\n",
        "\n",
        "print(\"DataFrame:\\n\", df)\n",
        "print(\"\\nDataFrame as a dictionary:\\n\", df_dict)\n"
      ],
      "metadata": {
        "id": "mq-RRrmr1coh",
        "colab": {
          "base_uri": "https://localhost:8080/"
        },
        "outputId": "bbd1062f-ee9a-46df-aeac-74c918541b23"
      },
      "execution_count": null,
      "outputs": [
        {
          "output_type": "stream",
          "name": "stdout",
          "text": [
            "DataFrame:\n",
            "     C1  C2  C3\n",
            "R1   1   2   3\n",
            "R2   4   5   6\n",
            "R3   7   8   9\n",
            "\n",
            "DataFrame as a dictionary:\n",
            " {'C1': {'R1': 1, 'R2': 4, 'R3': 7}, 'C2': {'R1': 2, 'R2': 5, 'R3': 8}, 'C3': {'R1': 3, 'R2': 6, 'R3': 9}}\n"
          ]
        }
      ]
    },
    {
      "cell_type": "markdown",
      "source": [
        "#### Q6. You are given a text file containing a string of words and you need to write a function to find words with a certain number of characters in the given text file. The length of the word will be the parameter of the function and will be given by the user. Remove duplicate words from the final list. [**HINT** - Take a look at split(), lower(), open() and input() functions in python]\n",
        "\n",
        "[USE Data Science.txt] [10 points]\n",
        "\n",
        "**EX** - The length of the word will be the parameter of the function and will be given by the user.\n",
        "\n",
        "* The length of word provided by user - 4\n",
        "\n",
        "**Output** -\n",
        "\n",
        "word\n",
        "\n",
        "will\n",
        "\n",
        "User\n",
        "\n",
        "* The length of word provided by user - 3\n",
        "\n",
        "**Output** -\n",
        "\n",
        "The\n",
        "\n",
        "and\n",
        "\n",
        "[“The” and “the” are the same]"
      ],
      "metadata": {
        "id": "BRHaqMwW1cxP"
      }
    },
    {
      "cell_type": "code",
      "source": [
        "import re\n",
        "\n",
        "\n",
        "def findWordsOfSpecificLength(length):\n",
        "  wordsList = []\n",
        "  with open(\"DataScience.txt\") as file:\n",
        "    for line in file:\n",
        "      for word in line.split():\n",
        "        word = re.sub(r'[^\\w\\s]', '', word) #applied a regex to remove extra whitespace and special characters surrounding words\n",
        "        if (word.lower() not in wordsList) and (len(word) == int(length)):\n",
        "          wordsList.append(word.lower())\n",
        "\n",
        "  file.close()\n",
        "  return wordsList\n",
        "\n",
        "userLength = input(\"Enter the length of words you'd like to find: \")\n",
        "print(\"Finding words of length \" + userLength + \"...\")\n",
        "print(findWordsOfSpecificLength(userLength))\n"
      ],
      "metadata": {
        "id": "eJ0SS8tZ3RHf",
        "colab": {
          "base_uri": "https://localhost:8080/"
        },
        "outputId": "c27165d7-a555-4211-d874-1a6f9ec28f58"
      },
      "execution_count": null,
      "outputs": [
        {
          "output_type": "stream",
          "name": "stdout",
          "text": [
            "Enter the length of words you'd like to find: 9\n",
            "Finding words of length 9...\n",
            "['processes', 'knowledge', 'phenomena', 'empirical']\n"
          ]
        }
      ]
    }
  ]
}